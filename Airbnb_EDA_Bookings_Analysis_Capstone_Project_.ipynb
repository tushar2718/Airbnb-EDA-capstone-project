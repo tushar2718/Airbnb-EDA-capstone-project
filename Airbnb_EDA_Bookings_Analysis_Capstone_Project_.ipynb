{
  "nbformat": 4,
  "nbformat_minor": 0,
  "metadata": {
    "kernelspec": {
      "display_name": "Python 3",
      "language": "python",
      "name": "python3"
    },
    "language_info": {
      "codemirror_mode": {
        "name": "ipython",
        "version": 3
      },
      "file_extension": ".py",
      "mimetype": "text/x-python",
      "name": "python",
      "nbconvert_exporter": "python",
      "pygments_lexer": "ipython3",
      "version": "3.6.6"
    },
    "colab": {
      "provenance": [],
      "collapsed_sections": [
        "Y06xIdG26kRF",
        "dI93_qtxobQ-",
        "i7BA85cEJhCG"
      ],
      "include_colab_link": true
    }
  },
  "cells": [
    {
      "cell_type": "markdown",
      "metadata": {
        "id": "view-in-github",
        "colab_type": "text"
      },
      "source": [
        "<a href=\"https://colab.research.google.com/github/tushar2718/Airbnb-EDA-capstone-project/blob/main/Airbnb_EDA_Bookings_Analysis_Capstone_Project_.ipynb\" target=\"_parent\"><img src=\"https://colab.research.google.com/assets/colab-badge.svg\" alt=\"Open In Colab\"/></a>"
      ]
    },
    {
      "cell_type": "markdown",
      "metadata": {
        "id": "Y06xIdG26kRF"
      },
      "source": [
        "## <b> Since 2008, guests and hosts have used Airbnb to expand on traveling possibilities and present a more unique, personalized way of experiencing the world. Today, Airbnb became one of a kind service that is used and recognized by the whole world. Data analysis on millions of listings provided through Airbnb is a crucial factor for the company. These millions of listings generate a lot of data - data that can be analyzed and used for security, business decisions, understanding of customers' and providers' (hosts) behavior and performance on the platform, guiding marketing initiatives, implementation of innovative additional services and much more. </b>\n",
        "\n",
        "## <b>This dataset has around 49,000 observations in it with 16 columns and it is a mix between categorical and numeric values. </b>\n",
        "\n",
        "## <b> Explore and analyze the data to discover key understandings (not limited to these) such as : \n",
        "* What can we learn about different hosts and areas?\n",
        "* What can we learn from predictions? (ex: locations, prices, reviews, etc)\n",
        "* Which hosts are the busiest and why?\n",
        "* Is there any noticeable difference of traffic among different areas and what could be the reason for it? </b>"
      ]
    },
    {
      "cell_type": "markdown",
      "source": [
        "# Start This journey with full of Ups and downs with some Motivational Quotes"
      ],
      "metadata": {
        "id": "dI93_qtxobQ-"
      }
    },
    {
      "cell_type": "markdown",
      "source": [
        "#\"Nothing is impossible. The word itself says 'I'm possible!'\"\n",
        " — Audrey Hepburn\n",
        "\n",
        "\n"
      ],
      "metadata": {
        "id": "i7BA85cEJhCG"
      }
    },
    {
      "cell_type": "markdown",
      "source": [
        "# **I know something children don’t that \"no one bad is ever truly bad and no one good is ever truly good\"**.                  \n",
        "~ Tom Hiddleston"
      ],
      "metadata": {
        "id": "8EMp7vKnFj7z"
      }
    },
    {
      "cell_type": "markdown",
      "source": [
        "# We did lots of google search as well kaggle for this research analysis to see work approch of multiple data scientist ."
      ],
      "metadata": {
        "id": "0HI9x6Fqprwm"
      }
    },
    {
      "cell_type": "markdown",
      "source": [
        "0.1-Case study- The purpose of this case study is to analyse the pricing trend between property type and neighbourhood or any correlation between review and price\n",
        "\n"
      ],
      "metadata": {
        "id": "Gzy8glIcpzKd"
      }
    },
    {
      "cell_type": "markdown",
      "source": [
        "0.2-Data cleaning and Analysis"
      ],
      "metadata": {
        "id": "rse5wuM5p3Nt"
      }
    },
    {
      "cell_type": "markdown",
      "source": [
        "# Libraries Prepration for the Data Analysis and plot"
      ],
      "metadata": {
        "id": "BFftJDTFp9Yg"
      }
    },
    {
      "cell_type": "code",
      "metadata": {
        "id": "dByMsuzT8Tnw"
      },
      "source": [
        "import pandas as pd# data processing, CSV file I/O (e.g. pd.read_csv)\n",
        "import numpy as np # linear algebra\n",
        "import matplotlib.pyplot as plt # ploting the data\n",
        "import seaborn as sns # ploting the data\n",
        "import math # calculation\n",
        "%matplotlib inline  "
      ],
      "execution_count": 1,
      "outputs": []
    },
    {
      "cell_type": "code",
      "source": [
        "from google.colab import drive\n",
        "drive.mount('/content/drive')"
      ],
      "metadata": {
        "id": "spsTB6f8rF40",
        "colab": {
          "base_uri": "https://localhost:8080/"
        },
        "outputId": "b5e82e0f-f693-4294-d230-6ac2d58ca45b"
      },
      "execution_count": 2,
      "outputs": [
        {
          "output_type": "stream",
          "name": "stdout",
          "text": [
            "Mounted at /content/drive\n"
          ]
        }
      ]
    },
    {
      "cell_type": "code",
      "source": [
        "a='/content/drive/MyDrive/almabetter/Airbnb NYC 2019.csv'        #file path reading or csv upload to coolab from drive\n",
        "airbnb_df=pd.read_csv(a)"
      ],
      "metadata": {
        "id": "sdBud2Se25W_"
      },
      "execution_count": 5,
      "outputs": []
    },
    {
      "cell_type": "markdown",
      "source": [
        "# Data Summary"
      ],
      "metadata": {
        "id": "JGG312gr58d6"
      }
    },
    {
      "cell_type": "code",
      "source": [
        "#read first ten rows  of data \n",
        "airbnb_df.head(10)"
      ],
      "metadata": {
        "id": "AEab-fd26vBa"
      },
      "execution_count": null,
      "outputs": []
    },
    {
      "cell_type": "code",
      "source": [
        "#read last ten rows  of data \n",
        "airbnb_df.tail(10)"
      ],
      "metadata": {
        "id": "P4FghJqDXA9D"
      },
      "execution_count": null,
      "outputs": []
    },
    {
      "cell_type": "markdown",
      "source": [
        "# Road Map for data Analysis\n",
        "\n",
        "Descriptive Analysis\n",
        "\n",
        "Data cleaning\n",
        "\n",
        "For host- \n",
        "Top three busiest host and also loaction wise top busiest host\n",
        "\n",
        "For Neighbourhood-\n",
        "Locations with most host listed \n",
        "\n",
        "Location getting maximum number of bookings on basis of reviews \n",
        "\n",
        "Price relation with respect to location\n",
        "\n",
        "For reviews-\n",
        "Relationship between reviews and neighbourhood\n",
        "\n",
        "Relationship between reviews and room type\n",
        "\n",
        "For Price-\n",
        "\n",
        "price vs amenities\n",
        "\n",
        "Price vs location"
      ],
      "metadata": {
        "id": "-hTFZ44t77AW"
      }
    },
    {
      "cell_type": "code",
      "source": [
        "#no or row and columns we are going to deal\n",
        "airbnb_df.shape"
      ],
      "metadata": {
        "id": "QnL-JR5D8OWh"
      },
      "execution_count": null,
      "outputs": []
    },
    {
      "cell_type": "code",
      "source": [
        "#Name of columns we have in our data base \n",
        "airbnb_df.columns"
      ],
      "metadata": {
        "id": "-hVyt6NB8ScF"
      },
      "execution_count": null,
      "outputs": []
    },
    {
      "cell_type": "markdown",
      "source": [
        "# Descriptive Analysis"
      ],
      "metadata": {
        "id": "nQoOtqbS8d3r"
      }
    },
    {
      "cell_type": "code",
      "source": [
        "#value through we are goin to deal\n",
        "airbnb_df.describe()"
      ],
      "metadata": {
        "id": "m8F4hC7O8hI_"
      },
      "execution_count": null,
      "outputs": []
    },
    {
      "cell_type": "markdown",
      "source": [
        "Price column showing minimum values as 0 which is due to human error and we need to inform those host to change the price Also review column has zero values which can be due to human error or property is new"
      ],
      "metadata": {
        "id": "BxrMMb8gZQoC"
      }
    },
    {
      "cell_type": "code",
      "source": [
        "# data information we have\n",
        "airbnb_df.info()"
      ],
      "metadata": {
        "id": "_f8tZ25y8zU1"
      },
      "execution_count": null,
      "outputs": []
    },
    {
      "cell_type": "markdown",
      "source": [
        "We have 10052 missing value in column such as last_review and reviews_per_month"
      ],
      "metadata": {
        "id": "4vl_SHNk9Ava"
      }
    },
    {
      "cell_type": "markdown",
      "source": [
        "# Start Data Cleaning"
      ],
      "metadata": {
        "id": "pXT7R1LC9NX4"
      }
    },
    {
      "cell_type": "code",
      "source": [
        "#drop all that column which is not useful currently for doing data analysis\n",
        "airbnb_df.drop(['id','last_review'],axis=1,inplace=True)"
      ],
      "metadata": {
        "id": "HA6K2YGW9Wsx"
      },
      "execution_count": null,
      "outputs": []
    },
    {
      "cell_type": "code",
      "source": [
        "# chech how many null values are avalible in which columns\n",
        "airbnb_df.isnull().sum()"
      ],
      "metadata": {
        "id": "kdv9i7TP9aYa"
      },
      "execution_count": null,
      "outputs": []
    },
    {
      "cell_type": "code",
      "source": [
        "# replacing all the null value from the zero in reviews_per_month column\n",
        "airbnb_df['reviews_per_month'].fillna(0,inplace=True)    \n",
        "airbnb_df['reviews_per_month']"
      ],
      "metadata": {
        "id": "5KxW8T_F9k7z"
      },
      "execution_count": null,
      "outputs": []
    },
    {
      "cell_type": "code",
      "source": [
        "#again checking null values\n",
        "airbnb_df.isna().sum()"
      ],
      "metadata": {
        "id": "a5wbsfmw9qjl"
      },
      "execution_count": null,
      "outputs": []
    },
    {
      "cell_type": "code",
      "source": [
        "#find the data which have null values in name column\n",
        "airbnb_df=airbnb_df.fillna({'name':'no data'})\n",
        "no_name_data=airbnb_df.loc[airbnb_df['name']=='no data',['name','host_id','neighbourhood_group']]\n",
        "no_name_data"
      ],
      "metadata": {
        "id": "1X0G47Bycbs8"
      },
      "execution_count": null,
      "outputs": []
    },
    {
      "cell_type": "markdown",
      "source": [
        "1-so we have 16 rows which have null value in name column:\n",
        "\n",
        "2-Filling of these values is upto client's discretion and we will remove null values for our analysis"
      ],
      "metadata": {
        "id": "f5ThEuKBdEkh"
      }
    },
    {
      "cell_type": "code",
      "source": [
        "#find the data which have null values in host_name column\n",
        "airbnb_df=airbnb_df.fillna({'host_name':'no data'})\n",
        "no_host_data=airbnb_df.loc[airbnb_df['host_name']=='no data',['name','host_name','host_id','neighbourhood_group']]\n",
        "no_host_data"
      ],
      "metadata": {
        "id": "dTVv4w7odhJB"
      },
      "execution_count": null,
      "outputs": []
    },
    {
      "cell_type": "markdown",
      "source": [
        "1-so we have 21 rows which have null values in host name column:\n",
        "\n",
        "2-Filling of these values is upto client's discretion and we will remove null values for our analysis"
      ],
      "metadata": {
        "id": "VQZMXvU5eQ7a"
      }
    },
    {
      "cell_type": "code",
      "source": [
        "airbnb_df.isnull().sum()"
      ],
      "metadata": {
        "id": "XW6aRdJyflM5"
      },
      "execution_count": null,
      "outputs": []
    },
    {
      "cell_type": "code",
      "source": [
        "# To check the price got changed or not\n",
        "airbnb_df.describe()"
      ],
      "metadata": {
        "id": "37otHm4w99yt"
      },
      "execution_count": null,
      "outputs": []
    },
    {
      "cell_type": "code",
      "source": [
        "#in here we check there are few rows of price whis is zero dollers.so we find these rows and remove them\n",
        "airbnb_df =airbnb_df[airbnb_df['price']!=0]\n",
        "airbnb_df =airbnb_df[airbnb_df['host_name']!=0]"
      ],
      "metadata": {
        "id": "h5tqeuGQfAFV"
      },
      "execution_count": null,
      "outputs": []
    },
    {
      "cell_type": "code",
      "source": [
        "#the corelation among variables \n",
        "corr = airbnb_df.corr()\n",
        "corr.style.background_gradient(cmap='coolwarm')\n"
      ],
      "metadata": {
        "id": "eMSMONCyhgBp"
      },
      "execution_count": null,
      "outputs": []
    },
    {
      "cell_type": "markdown",
      "source": [
        "This plot shows that there is no strong corelation among variables "
      ],
      "metadata": {
        "id": "-1BWzj9SiypJ"
      }
    },
    {
      "cell_type": "code",
      "source": [
        "# try to check price in different locations\n",
        "plt.figure(figsize=(12,6))\n",
        "sns.boxplot(y='neighbourhood_group', x='price', data=airbnb_df)"
      ],
      "metadata": {
        "id": "wtQRFMHDbsZL"
      },
      "execution_count": null,
      "outputs": []
    },
    {
      "cell_type": "code",
      "source": [
        "# Creating boxplot for price variable\n",
        "f, ax = plt.subplots(figsize=(8, 6))\n",
        "sns.boxplot(y = airbnb_df['price']) #try to drow price chart"
      ],
      "metadata": {
        "id": "BAFK5lgtnNgx"
      },
      "execution_count": null,
      "outputs": []
    },
    {
      "cell_type": "code",
      "source": [
        "# try to check count of reviews for room type\n",
        "review_per_roomtype=airbnb_df.groupby('room_type')['number_of_reviews'].count()\n",
        "review_per_roomtype\n"
      ],
      "metadata": {
        "id": "ohgfZEl1goMp"
      },
      "execution_count": null,
      "outputs": []
    },
    {
      "cell_type": "code",
      "source": [
        "# try to show these details in bar ploit\n",
        "review_per_roomtype.plot(kind='bar')\n",
        "plt.xticks(rotation ='horizontal')"
      ],
      "metadata": {
        "id": "6Yd6NqeVjDCO"
      },
      "execution_count": null,
      "outputs": []
    },
    {
      "cell_type": "markdown",
      "source": [
        "Most of the people prefers entire apt on the basis of reviews as they want privacy "
      ],
      "metadata": {
        "id": "tG0DsiMKlHfl"
      }
    },
    {
      "cell_type": "code",
      "source": [
        "# table showing the data relation between night stay and room type\n",
        "room__type_min_night=airbnb_df.groupby('room_type')['minimum_nights'].mean().reset_index()\n",
        "room__type_min_night"
      ],
      "metadata": {
        "id": "XNz1cf8T-l17"
      },
      "execution_count": null,
      "outputs": []
    },
    {
      "cell_type": "code",
      "source": [
        "#Plot for room type and mean of minimum_nights\n",
        "visual=sns.barplot(x='room_type',y='minimum_nights',data=room__type_min_night,palette=\"Blues_d\")\n",
        "visual.set_title('room type and minimum no of night stay  ')\n",
        "visual.set_ylabel('minimum night')\n",
        "visual.set_xlabel('room type')"
      ],
      "metadata": {
        "id": "pMNJxfQH-soA"
      },
      "execution_count": null,
      "outputs": []
    },
    {
      "cell_type": "code",
      "source": [
        "#plot of hosts per Neighbourhood Group\n",
        "plt.figure(figsize=(13,7))\n",
        "title = 'hosts per Neighbourhood Group'\n",
        "sns.countplot(airbnb_df['neighbourhood_group'])\n",
        "plt.title(title)\n"
      ],
      "metadata": {
        "id": "jfmaoxF3rl7I"
      },
      "execution_count": null,
      "outputs": []
    },
    {
      "cell_type": "code",
      "source": [
        "#use py chart for hosts per Neighbourhood Group\n",
        "plt.figure(figsize=(13,7))\n",
        "plt.pie(airbnb_df.neighbourhood_group.value_counts(), labels=airbnb_df.neighbourhood_group.value_counts().index,autopct='%1.1f%%', startangle=180)\n",
        "plt.show()"
      ],
      "metadata": {
        "id": "KtX0j2vIsJGc"
      },
      "execution_count": null,
      "outputs": []
    },
    {
      "cell_type": "markdown",
      "source": [
        "\n",
        "\n",
        "*   Graph shows the highest 21642 (aprrox 44% )hosts available in Manhattan\n",
        "*  Graph shows the second highest 20080 (approx 41%) hosts available in Brooklyn\n",
        "*   It can be clearly seen that majority of hosts are from these two areas alone\n",
        "*    We need to work more on branding,discounts and offers in these two areas\n",
        "\n"
      ],
      "metadata": {
        "id": "XU9SWvO8uEMu"
      }
    },
    {
      "cell_type": "code",
      "source": [
        "#count of reviews per location\n",
        "\n",
        "reviews_locations=airbnb_df.groupby('neighbourhood_group')['number_of_reviews'].count().reset_index()\n",
        "reviews_locations"
      ],
      "metadata": {
        "id": "ztc3jdLgwzwA"
      },
      "execution_count": null,
      "outputs": []
    },
    {
      "cell_type": "code",
      "source": [
        "#finding the costly neighbourhood group for the giving room type\n",
        "costly_neighbourhood_group=airbnb_df.groupby(['neighbourhood_group','room_type'])['price'].mean().unstack()\n",
        "costly_neighbourhood_group"
      ],
      "metadata": {
        "id": "mPwsbtxU-zSm"
      },
      "execution_count": null,
      "outputs": []
    },
    {
      "cell_type": "markdown",
      "source": [
        "Manhattan is most expensive for the all of the given room types.After surfing it on net & map we find it's situated at mid of the country so more denser and it also have important financial status, so movement of finacial act happend here."
      ],
      "metadata": {
        "id": "M1g9deDK-5vY"
      }
    },
    {
      "cell_type": "code",
      "source": [
        "# Plot for finding the costly neighbourhood_group\n",
        "costly_neighbourhood_group.plot(kind='bar')\n",
        "plt.xticks(rotation ='horizontal')"
      ],
      "metadata": {
        "id": "oPIK8vSI-98V"
      },
      "execution_count": null,
      "outputs": []
    },
    {
      "cell_type": "code",
      "source": [
        "#ROOM TYPE IN EACH NEIGHBOURHOOD GROUP\n",
        "room_type_neighbourhood_group=airbnb_df.groupby(['neighbourhood_group','room_type'])['room_type'].count().unstack()\n",
        "room_type_neighbourhood_group"
      ],
      "metadata": {
        "id": "K6tEpMRj_C17"
      },
      "execution_count": null,
      "outputs": []
    },
    {
      "cell_type": "code",
      "source": [
        "# Plot for room type and neighbourhood_group\n",
        "room_type_neighbourhood_group.plot(kind='bar')\n",
        "plt.xticks(rotation ='horizontal')"
      ],
      "metadata": {
        "id": "RO0z0mNZ_3ni"
      },
      "execution_count": null,
      "outputs": []
    },
    {
      "cell_type": "markdown",
      "source": [
        "Plot clearly says that shared room are least populated.that most of the people select privacy and safety over the less price.\n",
        "\n"
      ],
      "metadata": {
        "id": "VkaObI1PAJZq"
      }
    },
    {
      "cell_type": "code",
      "source": [
        "#find the most busy neighbourhood group\n",
        "most_busy_neighbour_group=airbnb_df.groupby(['neighbourhood_group'])['reviews_per_month'].count().reset_index()\n",
        "most_busy_neighbour_group"
      ],
      "metadata": {
        "id": "Pxv1FdauAV93"
      },
      "execution_count": null,
      "outputs": []
    },
    {
      "cell_type": "code",
      "source": [
        "most_busy_neighbour_group.plot(x='neighbourhood_group',y='reviews_per_month',kind='bar')\n",
        "plt.xticks(rotation=\"horizontal\")\n",
        "plt.show()"
      ],
      "metadata": {
        "id": "BGOWGntdArW5"
      },
      "execution_count": null,
      "outputs": []
    },
    {
      "cell_type": "markdown",
      "source": [
        "Manhatten is the busiest neighbourhood on basis of reviews followed by Brooklyn"
      ],
      "metadata": {
        "id": "jyO9CJF6AcSb"
      }
    },
    {
      "cell_type": "code",
      "source": [
        "#scatter plot with outlier for diffrent neighbourhood_group\n",
        "plt.figure(figsize=(10,6))\n",
        "price_vs_review_graph=sns.scatterplot(x='price',y='reviews_per_month',hue='neighbourhood_group',palette=['green','red','orange','blue','yellow'],legend='full',data=airbnb_df)\n",
        "price_vs_review_graph"
      ],
      "metadata": {
        "id": "4_Bv2Dw_AiMh"
      },
      "execution_count": null,
      "outputs": []
    },
    {
      "cell_type": "markdown",
      "source": [
        "From the above plot we can understand that reviews and price is in a negative correlation.i.e lesser the price of property more people will come to stay hence more reviews  "
      ],
      "metadata": {
        "id": "lmrTgPs9BIvB"
      }
    },
    {
      "cell_type": "markdown",
      "source": [
        "#Busiest Hosts"
      ],
      "metadata": {
        "id": "0V0TEIMbBZPd"
      }
    },
    {
      "cell_type": "code",
      "source": [
        "# Creating table for the most call host\n",
        "host_with_most=airbnb_df[['host_name','calculated_host_listings_count']]\n",
        "sorted_host_with_most=host_with_most.sort_values('calculated_host_listings_count',ascending=False)\n",
        "first_three_top=sorted_host_with_most.drop_duplicates(subset=['host_name','calculated_host_listings_count'],keep='first')\n",
        "final_data=first_three_top[0:3]\n",
        "final_data\n",
        "\n"
      ],
      "metadata": {
        "id": "zhALQUkCBaz5"
      },
      "execution_count": null,
      "outputs": []
    },
    {
      "cell_type": "code",
      "source": [
        "# Plot for most listing host\n",
        "visual=sns.barplot(x='host_name',y='calculated_host_listings_count',data=final_data,palette=\"Blues_d\")\n",
        "visual.set_title('most listed neighbour')\n",
        "visual.set_ylabel('calculated_host_listings_count')\n",
        "visual.set_xlabel('host_name')\n"
      ],
      "metadata": {
        "id": "UEJrLyQIBfjN"
      },
      "execution_count": null,
      "outputs": []
    },
    {
      "cell_type": "markdown",
      "source": [
        "After doing some google research we found that sonder is hotel chain company which used airbnb for listing its property.it's hotel is based on manhatten mostly seven district which is given below .."
      ],
      "metadata": {
        "id": "eVOQanQaBvr7"
      }
    },
    {
      "cell_type": "code",
      "source": [
        "# Blueground data explore\n",
        "Sonder=airbnb_df[airbnb_df['host_name']=='Sonder (NYC)']\n",
        "\n",
        "#ROOM TYPE IN Sonder (NYC) host\n",
        "sonder_rooms=Sonder.groupby(['neighbourhood_group','room_type'])['room_type'].count().unstack()\n",
        "sonder_rooms"
      ],
      "metadata": {
        "id": "n2AllkwqLwmY"
      },
      "execution_count": null,
      "outputs": []
    },
    {
      "cell_type": "code",
      "source": [
        "# Plot for room type in neighbourhood_group\n",
        "sonder_rooms.plot(kind='bar')\n",
        "plt.xticks(rotation ='horizontal')"
      ],
      "metadata": {
        "id": "C4-utbgiGnHa"
      },
      "execution_count": null,
      "outputs": []
    },
    {
      "cell_type": "markdown",
      "source": [
        "Sonder (NYC)\t\n",
        "\n",
        "*   In Sonder (NYC)\thave 327 listing.\n",
        "*  All listing are avalible in \"manhattan\" only.\n",
        "* Sonder (NYC) have 319 Entire home/apt.\n",
        "* And Sonder (NYC) have 8 Private room"
      ],
      "metadata": {
        "id": "17xVJyMfHF_E"
      }
    },
    {
      "cell_type": "code",
      "source": [
        "# Blueground data explore\n",
        "blueground_rooms=airbnb_df[airbnb_df['host_name']=='Blueground']\n",
        "blueground_rooms=blueground_rooms.groupby(['neighbourhood_group','room_type'])['room_type'].count().unstack()\n",
        "blueground_rooms"
      ],
      "metadata": {
        "id": "J_iiJRoIHl_h"
      },
      "execution_count": null,
      "outputs": []
    },
    {
      "cell_type": "code",
      "source": [
        "# Plot for room type in neighbourhood_group\n",
        "blueground_rooms.plot(kind='bar')\n",
        "plt.xticks(rotation ='horizontal')"
      ],
      "metadata": {
        "id": "nhHNt3QbH0P9"
      },
      "execution_count": null,
      "outputs": []
    },
    {
      "cell_type": "markdown",
      "source": [
        "Blueground\t\n",
        "\n",
        "*   Blueground\thave 232 listing.\n",
        "*  230 listing are avalible in \"manhattan\".\n",
        "*  2 listing are avalible in \"Brooklyn\".\n",
        "* Blueground have all 232 Entire home/apt."
      ],
      "metadata": {
        "id": "Fne-YreRIDly"
      }
    },
    {
      "cell_type": "code",
      "source": [
        "# Kara data explore\n",
        "Kara=airbnb_df[airbnb_df['host_name']=='Kara']\n",
        "\n",
        "#ROOM TYPE IN Kara host\n",
        "kara_rooms=Kara.groupby(['neighbourhood_group','room_type'])['room_type'].count().unstack()\n",
        "\n",
        "# we have few null values by using groupby function\n",
        "kara_rooms=kara_rooms.fillna({'Entire home/apt':0})\n",
        "kara_rooms\n"
      ],
      "metadata": {
        "id": "1vSfoqmLIDJe"
      },
      "execution_count": null,
      "outputs": []
    },
    {
      "cell_type": "code",
      "source": [
        "#try to make a bar chat for easilly understanding\n",
        "kara_rooms.plot(kind='bar')\n",
        "plt.xticks(rotation ='horizontal')\n"
      ],
      "metadata": {
        "id": "CM_LGdyLJyTG"
      },
      "execution_count": null,
      "outputs": []
    },
    {
      "cell_type": "markdown",
      "source": [
        "KARA\n",
        "\n",
        "* KARA have 121 listing.\n",
        "* 135 listing are avalible in \"manhattan\" with 6 Private room and 129 Entire home/apt.\n",
        "* 6 listing are avalible in \"Brooklyn\" with 1 Private room and 5 Entire home/apt.\n",
        "*  2 listing are avalible in \"Queens\" with all 2 Entire home/apt ."
      ],
      "metadata": {
        "id": "qrxSG3zGK7pF"
      }
    },
    {
      "cell_type": "code",
      "source": [
        "#for analyis the data granularly we creat a each of the neighbourhood group function\n",
        "nbgh_manhattan=airbnb_df.loc[airbnb_df['neighbourhood_group']=='Manhattan'].reset_index()\n",
        "nbgh_Bronx=airbnb_df.loc[airbnb_df['neighbourhood_group']=='Bronx'].reset_index()\n",
        "nbgh_Brooklyn=airbnb_df.loc[airbnb_df['neighbourhood_group']=='Brooklyn'].reset_index()\n",
        "nbgh_Queens=airbnb_df.loc[airbnb_df['neighbourhood_group']=='Queens'].reset_index()\n",
        "nbgh_Staten_Island=airbnb_df.loc[airbnb_df['neighbourhood_group']=='Staten Island'].reset_index()"
      ],
      "metadata": {
        "id": "rU4uiVNmB-lB"
      },
      "execution_count": null,
      "outputs": []
    },
    {
      "cell_type": "code",
      "source": [
        "#sorting it by price for each neighbourhood group\n",
        "most_expensiv_neighbourhood_manhattan=nbgh_manhattan.groupby(['neighbourhood_group','neighbourhood'])['price'].mean().reset_index().sort_values('price',ascending=False)\n",
        "most_expensiv_neighbourhood_Bronx=nbgh_Bronx.groupby(['neighbourhood_group','neighbourhood'])['price'].mean().reset_index().sort_values('price',ascending=False)\n",
        "most_expensiv_neighbourhood_Brooklyn=nbgh_Brooklyn.groupby(['neighbourhood_group','neighbourhood'])['price'].mean().reset_index().sort_values('price',ascending=False)\n",
        "most_expensiv_neighbourhood_Queens=nbgh_Queens.groupby(['neighbourhood_group','neighbourhood'])['price'].mean().reset_index().sort_values('price',ascending=False)\n",
        "most_expensiv_neighbourhood_Staten_Island=nbgh_Staten_Island.groupby(['neighbourhood_group','neighbourhood'])['price'].mean().reset_index().sort_values('price',ascending=False)"
      ],
      "metadata": {
        "id": "FcF4EcVSCOOH"
      },
      "execution_count": null,
      "outputs": []
    },
    {
      "cell_type": "code",
      "source": [
        "#now code for finding top three neighbourhood from each group\n",
        "top_three_manhattan=most_expensiv_neighbourhood_manhattan[0:3].reset_index()\n",
        "top_three_Bronx=most_expensiv_neighbourhood_Bronx[0:3].reset_index()\n",
        "top_three_Brooklyn=most_expensiv_neighbourhood_Brooklyn[0:3].reset_index()\n",
        "top_three_Queens=most_expensiv_neighbourhood_Queens[0:3].reset_index()\n",
        "top_three_Staten_Island=most_expensiv_neighbourhood_Staten_Island[0:3].reset_index()"
      ],
      "metadata": {
        "id": "sUIrBK7-Cclq"
      },
      "execution_count": null,
      "outputs": []
    },
    {
      "cell_type": "code",
      "source": [
        "table_top_three_neighbourhood_group=pd.concat([top_three_manhattan,top_three_Bronx,top_three_Brooklyn,top_three_Queens,top_three_Staten_Island],axis=0)"
      ],
      "metadata": {
        "id": "CUM4qf37Ckwc"
      },
      "execution_count": null,
      "outputs": []
    },
    {
      "cell_type": "code",
      "source": [
        "table_top_three_neighbourhood_group.reset_index()"
      ],
      "metadata": {
        "id": "IRrTgmjjCvMw"
      },
      "execution_count": null,
      "outputs": []
    },
    {
      "cell_type": "code",
      "source": [
        "#Plot manhattan top three ..\n",
        "plt.figure(figsize=(8,5))\n",
        "top_three_manhattan.plot(x='neighbourhood',y='price',kind='bar')\n",
        "plt.xticks(rotation ='horizontal')"
      ],
      "metadata": {
        "id": "YWAL1bj0C6jS"
      },
      "execution_count": null,
      "outputs": []
    },
    {
      "cell_type": "code",
      "source": [
        "# Plot for Bronx top three\n",
        "plt.figure(figsize=(8,5))\n",
        "top_three_Bronx.plot(x='neighbourhood',y='price',kind='bar')\n",
        "plt.xticks(rotation ='horizontal')"
      ],
      "metadata": {
        "id": "m8OiDRIZDEp9"
      },
      "execution_count": null,
      "outputs": []
    },
    {
      "cell_type": "code",
      "source": [
        "# Plot for Brooklyn top three\n",
        "plt.figure(figsize=(8,5))\n",
        "top_three_Brooklyn.plot(x='neighbourhood',y='price',kind='bar')\n",
        "plt.xticks(rotation ='horizontal')"
      ],
      "metadata": {
        "id": "SxMaW_kyDI9p"
      },
      "execution_count": null,
      "outputs": []
    },
    {
      "cell_type": "code",
      "source": [
        "# Plot for Queens top three\n",
        "plt.figure(figsize=(8,5))\n",
        "top_three_Queens.plot(x='neighbourhood',y='price',kind='bar')\n",
        "plt.xticks(rotation ='horizontal')"
      ],
      "metadata": {
        "id": "LuyOE5QADNZ7"
      },
      "execution_count": null,
      "outputs": []
    },
    {
      "cell_type": "code",
      "source": [
        "# Plot for Staten_Island top three\n",
        "plt.figure(figsize=(8,5))\n",
        "top_three_Staten_Island.plot(x='neighbourhood',y='price',kind='bar')\n",
        "plt.xticks(rotation ='horizontal')"
      ],
      "metadata": {
        "id": "5AYIsZArDRwS"
      },
      "execution_count": null,
      "outputs": []
    },
    {
      "cell_type": "code",
      "source": [
        "# room type availabilty relation\n",
        "room_type_avail=airbnb_df.groupby('room_type')['availability_365'].mean().reset_index()\n",
        "room_type_avail"
      ],
      "metadata": {
        "id": "oBtVVkTbDr1Z"
      },
      "execution_count": null,
      "outputs": []
    },
    {
      "cell_type": "code",
      "source": [
        "plt.figure(figsize=(10,5))\n",
        "visual=room_type_avail.plot(x='room_type',y='availability_365',kind='bar')\n",
        "plt.xticks(rotation ='horizontal')"
      ],
      "metadata": {
        "id": "bXd3Jc0CDynd"
      },
      "execution_count": null,
      "outputs": []
    },
    {
      "cell_type": "markdown",
      "source": [
        "Inside the Neighbourhood"
      ],
      "metadata": {
        "id": "9lm4-zbMD2Yc"
      }
    },
    {
      "cell_type": "code",
      "source": [
        "#fining the top ten neighbourhood\n",
        "airbnb_df.neighbourhood.value_counts().head(11).reset_index()"
      ],
      "metadata": {
        "id": "F3asz3vBF2xH"
      },
      "execution_count": null,
      "outputs": []
    },
    {
      "cell_type": "code",
      "source": [
        "#combine this data with roomtype for enhance the visualisation\n",
        "sub_data2=airbnb_df.loc[airbnb_df['neighbourhood'].isin(['Williamsburg','Bedford-Stuyvesant','Harlem','Bushwick','Upper West Side','Hell\\s kitchen','East Village','Upper East Side','Crown Heights','Midtown','East Harlem'])]\n",
        "#using catplot to represnting mutltiple atribute together\n",
        "visual=sns.catplot(x='neighbourhood',hue='neighbourhood_group',col='room_type',data=sub_data2,kind='count')\n",
        "visual.set_xticklabels(rotation=90)"
      ],
      "metadata": {
        "id": "AGDrVcU5F_WZ"
      },
      "execution_count": null,
      "outputs": []
    },
    {
      "cell_type": "markdown",
      "source": [
        "We can see from the above three sub plots that we can make comparision between distribution of attributes.The y-axis and x-axis are same in both the plot, in the y-axis we are taking count and on the x-axis we taking observation. There are two more important element first is column and second is hue, after specifying the column and determining the hue we are able to compare and observe the y-axis and x-axis among the specified column as well colour-code. We observerd that the shared room type have less number of intrest.we had seen from the top 10 neighbourhood only Manhattan and Brooklyn are the most travel destination therefore it would have the most listing availability.we can also see that Bedford-stuyvesent and williamsburg are more populated than Manhattan and harlem from Brooklyn"
      ],
      "metadata": {
        "id": "vmBQ_Np5rTKG"
      }
    },
    {
      "cell_type": "code",
      "source": [
        "# now take some insights from longitude and latitude\n",
        "#let's draw scatter plot \n",
        "plt.figure(figsize=(10,8))\n",
        "visual=sns.scatterplot(x=\"longitude\", y=\"latitude\", hue=\"neighbourhood_group\",palette=['blue','green','yellow','grey','red'], legend='full',data=airbnb_df)"
      ],
      "metadata": {
        "id": "dFnLscgzGF5w"
      },
      "execution_count": null,
      "outputs": []
    },
    {
      "cell_type": "markdown",
      "source": [
        "At the End of jouney we have extracted some useful insights from the given data. so, now we can give suggestion to Airbnb CEO with some Exquisite conclusion"
      ],
      "metadata": {
        "id": "vJkjp0-cGL8l"
      }
    },
    {
      "cell_type": "markdown",
      "source": [
        "*Most airbnb is located in Manhattan and Brooklyn. Due to capital income state Manhattan is most Expensive.\n",
        "\n",
        "*Correlation graph shows that in the U.S people prefer privacy than the price, so the private room and entire home are most preferable room type.\n",
        "\n",
        "*Correlation between price and review shows that people prefer afforable rooms and thus reviews are more at less price\n"
      ],
      "metadata": {
        "id": "9OD7G0RKG7Md"
      }
    }
  ]
}